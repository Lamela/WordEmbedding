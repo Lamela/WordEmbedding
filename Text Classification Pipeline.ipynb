{
 "cells": [
  {
   "cell_type": "code",
   "execution_count": 1,
   "metadata": {},
   "outputs": [
    {
     "name": "stderr",
     "output_type": "stream",
     "text": [
      "Using TensorFlow backend.\n"
     ]
    }
   ],
   "source": [
    "import ast\n",
    "import os\n",
    "#from nn_utils import TrainingHistory\n",
    "from keras.layers import Dense, Embedding, Input\n",
    "from keras.layers import GRU, Dropout, MaxPooling1D, Conv1D, Flatten\n",
    "from keras.models import Model\n",
    "import numpy as np\n",
    "import itertools\n",
    "from keras.utils import np_utils\n",
    "from sklearn.metrics import (classification_report, \n",
    "                             precision_recall_fscore_support, \n",
    "                             accuracy_score)\n",
    "from sklearn import preprocessing\n",
    "import numpy as np\n",
    "from keras.preprocessing import text, sequence\n",
    "from sklearn.model_selection import train_test_split\n",
    "\n",
    "# Model parameters\n",
    "MAX_FEATURES = 183312\n",
    "MAX_TEXT_LENGTH = 1024\n",
    "EMBED_SIZE  = 100\n",
    "BATCH_SIZE = 16\n",
    "EPOCHS = 2\n",
    "VALIDATION_SPLIT = 0.1"
   ]
  },
  {
   "cell_type": "markdown",
   "metadata": {},
   "source": [
    "Nous définissons un modèle de classification de texte avec une couche de Conv1D et une couche de Dense. Nous pouvons utiliser les vecteurs de mots pré-appris. Le modèle est basé sur le [TP de M. Kermorvant](https://gitlab.com/kermorvant/nlp-labs)."
   ]
  },
  {
   "cell_type": "code",
   "execution_count": 14,
   "metadata": {
    "collapsed": true
   },
   "outputs": [],
   "source": [
    "def get_train_test(train_raw_text, test_raw_text):\n",
    "    \n",
    "    tokenizer = text.Tokenizer(num_words=MAX_FEATURES)\n",
    "\n",
    "    tokenizer.fit_on_texts(list(train_raw_text))\n",
    "    train_tokenized = tokenizer.texts_to_sequences(train_raw_text)\n",
    "    test_tokenized = tokenizer.texts_to_sequences(test_raw_text)\n",
    "    return sequence.pad_sequences(train_tokenized, maxlen=MAX_TEXT_LENGTH), \\\n",
    "           sequence.pad_sequences(test_tokenized, maxlen=MAX_TEXT_LENGTH)\n",
    "\n",
    "    \n",
    "def get_model(embedding_matrix, word_index):\n",
    "\n",
    "    inp = Input(shape=(MAX_TEXT_LENGTH,))\n",
    "    #modification here\n",
    "    model = Embedding(len(word_index) + 1,\n",
    "                      EMBED_SIZE,\n",
    "                      weights=[embedding_matrix],\n",
    "                      input_length=MAX_TEXT_LENGTH,\n",
    "                      trainable=False)(inp)\n",
    "    \n",
    "    model = Dropout(0.5)(model)\n",
    "    model = Conv1D(filters=32, kernel_size=2, padding='same', activation='relu')(model)\n",
    "    model = MaxPooling1D(pool_size=2)(model)\n",
    "    model = Flatten()(model)\n",
    "    model = Dense(11, activation=\"softmax\")(model)\n",
    "    model = Model(inputs=inp, outputs=model)\n",
    "    \n",
    "    model.compile(loss='categorical_crossentropy', optimizer='adam', metrics=['accuracy'])\n",
    "    model.summary()\n",
    "    return model\n",
    "\n",
    "\n",
    "def train_fit_predict(model, x_train, x_test, y_train):\n",
    "    \n",
    "    model.fit(x_train, y_train,\n",
    "              batch_size=BATCH_SIZE,\n",
    "              epochs=EPOCHS, verbose=1)\n",
    "\n",
    "    return model.predict(x_test)"
   ]
  },
  {
   "cell_type": "markdown",
   "metadata": {},
   "source": [
    "Nous lisons le jeu de données d'apprentissage et de test."
   ]
  },
  {
   "cell_type": "code",
   "execution_count": 3,
   "metadata": {
    "collapsed": true
   },
   "outputs": [],
   "source": [
    "x_train = []\n",
    "y_train = []\n",
    "x_test = []\n",
    "y_test = []\n",
    "with open('datasets/news_less_category.txt', 'r') as f:\n",
    "    for line in f:\n",
    "        temp = line.split('__label__')\n",
    "        x_train.append(temp[0])\n",
    "        y_train.append(temp[1])\n",
    "with open('datasets/news_fasttext_test.txt', 'r') as f:\n",
    "    for line in f:\n",
    "        temp = line.split('__label__')\n",
    "        x_test.append(temp[0])\n",
    "        y_test.append(temp[1])"
   ]
  },
  {
   "cell_type": "markdown",
   "metadata": {},
   "source": [
    "Si l'on définit les jeux de données d'apprentissage et test comme ça, la taille de jeux de données est super élevée. Dans ce cas-là, le temps de calcul va exploser. Nous décidons de prendre le jeu de données de test, puis faire le découpage afin d'obtenir le jeu de données d'apprentissage utilisé et le jeu de données de test utilisé."
   ]
  },
  {
   "cell_type": "code",
   "execution_count": 10,
   "metadata": {
    "collapsed": true
   },
   "outputs": [],
   "source": [
    "def split_datasets(data_path, test_size):\n",
    "    x = []\n",
    "    y = []\n",
    "    with open(data_path, 'r') as f:\n",
    "        for line in f:\n",
    "            temp = line.split('__label__')\n",
    "            x.append(temp[0])\n",
    "            y.append(temp[1].replace('\\n', ''))\n",
    "            \n",
    "    x_train, x_test, y_train, y_test = train_test_split(x, y, test_size=test_size)\n",
    "    print('Dataset splited.')\n",
    "    return x_train, x_test, y_train, y_test"
   ]
  },
  {
   "cell_type": "markdown",
   "metadata": {},
   "source": [
    "Maintenant nous allons lire les vecteurs de mots pré-appris. Cette partie est basé sur le [tutoriel de Keras](https://blog.keras.io/using-pre-trained-word-embeddings-in-a-keras-model.html) "
   ]
  },
  {
   "cell_type": "code",
   "execution_count": 6,
   "metadata": {},
   "outputs": [
    {
     "name": "stdout",
     "output_type": "stream",
     "text": [
      "183312 100\n",
      "\n",
      "Found 183312 word vectors.\n"
     ]
    }
   ],
   "source": [
    "embeddings_index = {}\n",
    "with open('model_pure_skip.vec', 'r') as f:\n",
    "    first_line = f.readline()\n",
    "    print(first_line)\n",
    "    for line in f:\n",
    "        values = line.split()\n",
    "        word = values[0]\n",
    "        coefs = np.asarray(values[1:], dtype='float32')\n",
    "        embeddings_index[word] = coefs\n",
    "\n",
    "\n",
    "print('Found %s word vectors.' % len(embeddings_index))"
   ]
  },
  {
   "cell_type": "code",
   "execution_count": 15,
   "metadata": {
    "collapsed": true
   },
   "outputs": [],
   "source": [
    "def get_embedding_index(vectors_file_path):\n",
    "    embeddings_index = {}\n",
    "    with open(vectors_file_path, 'r') as f:\n",
    "        first_line = f.readline()\n",
    "        print(first_line)\n",
    "        for line in f:\n",
    "            values = line.split()\n",
    "            word = values[0]\n",
    "            coefs = np.asarray(values[1:], dtype='float32')\n",
    "            embeddings_index[word] = coefs\n",
    "            \n",
    "    print('Found %s word vectors.' % len(embeddings_index))\n",
    "    \n",
    "    return embeddings_index\n",
    "\n",
    "\n",
    "def get_embedding_matrix(x_train, embedding_index):\n",
    "    print('Building embedding matrix...')  \n",
    "    tokenizer = text.Tokenizer(num_words=MAX_FEATURES)\n",
    "    tokenizer.fit_on_texts(x_train)\n",
    "    word_index = tokenizer.word_index\n",
    "    embedding_matrix = np.zeros((len(word_index) + 1, EMBED_SIZE))\n",
    "    for word, i in word_index.items():\n",
    "        embedding_vector = embeddings_index.get(word)\n",
    "        if embedding_vector is not None:\n",
    "            # words not found in embedding index will be all-zeros.\n",
    "            embedding_matrix[i] = embedding_vector\n",
    "    print('Embedding matrix built.')        \n",
    "    return embedding_matrix, word_index"
   ]
  },
  {
   "cell_type": "code",
   "execution_count": 9,
   "metadata": {
    "collapsed": true
   },
   "outputs": [],
   "source": [
    "tokenizer = text.Tokenizer(num_words=MAX_FEATURES)\n",
    "tokenizer.fit_on_texts(x_train)\n",
    "word_index = tokenizer.word_index\n",
    "embedding_matrix = np.zeros((len(word_index) + 1, EMBED_SIZE))\n",
    "for word, i in word_index.items():\n",
    "    embedding_vector = embeddings_index.get(word)\n",
    "    if embedding_vector is not None:\n",
    "        # words not found in embedding index will be all-zeros.\n",
    "        embedding_matrix[i] = embedding_vector"
   ]
  },
  {
   "cell_type": "markdown",
   "metadata": {},
   "source": [
    "Nous allons d'abord tokenizer les données au format pour le réseau de neurones"
   ]
  },
  {
   "cell_type": "code",
   "execution_count": 7,
   "metadata": {},
   "outputs": [
    {
     "name": "stdout",
     "output_type": "stream",
     "text": [
      "['affairs\\n' 'economic\\n' 'edu\\n' 'ent\\n' 'fashion\\n' 'game\\n' 'home\\n'\n",
      " 'house\\n' 'science\\n' 'sports\\n' 'stock\\n']\n",
      "109989 103369\n"
     ]
    }
   ],
   "source": [
    "# TODO:\n",
    "# Get the list of different classes\n",
    "CLASSES_LIST = np.unique(y_train)\n",
    "n_out = len(CLASSES_LIST)\n",
    "print(CLASSES_LIST)\n",
    "\n",
    "# Convert class string to index\n",
    "le = preprocessing.LabelEncoder()\n",
    "le.fit(CLASSES_LIST)\n",
    "y_train = le.transform(y_train) \n",
    "y_test = le.transform(y_test) \n",
    "train_y_cat = np_utils.to_categorical(y_train, n_out)\n",
    "\n",
    "# get the textual data in the correct format for NN\n",
    "x_vec_train, x_vec_test = get_train_test(x_train, x_test)\n",
    "print(len(x_vec_train), len(x_vec_test))"
   ]
  },
  {
   "cell_type": "code",
   "execution_count": 16,
   "metadata": {
    "collapsed": true
   },
   "outputs": [],
   "source": [
    "def class_str_2_ind(x_train, x_test, y_train, y_test):\n",
    "    le = preprocessing.LabelEncoder()\n",
    "    CLASSES_LIST = np.unique(y_train)\n",
    "    n_out = len(CLASSES_LIST)\n",
    "    print(CLASSES_LIST)\n",
    "    print('Converting data to trainable form...')\n",
    "    le.fit(CLASSES_LIST)\n",
    "    y_train = le.transform(y_train)\n",
    "    y_test = le.transform(y_test)\n",
    "    train_y_cat = np_utils.to_categorical(y_train, n_out)\n",
    "    x_vec_train, x_vec_test = get_train_test(x_train, x_test)\n",
    "    print(len(x_vec_train), len(x_vec_test))\n",
    "    \n",
    "    return x_vec_train, x_vec_test, y_train, y_test, train_y_cat"
   ]
  },
  {
   "cell_type": "markdown",
   "metadata": {},
   "source": [
    "----\n",
    "Nous entraînons le modèle."
   ]
  },
  {
   "cell_type": "code",
   "execution_count": null,
   "metadata": {},
   "outputs": [],
   "source": [
    "vectors_file_path = 'word2vec_skip.txt'\n",
    "data_path = 'datasets/news_fasttext_test.txt'\n",
    "test_size = 0.01\n",
    "x_train, x_test, y_train, y_test = split_datasets(data_path, test_size)\n",
    "x_vec_train, x_vec_test, y_train, y_test, train_y_cat = class_str_2_ind(x_train, x_test, y_train, y_test)"
   ]
  },
  {
   "cell_type": "code",
   "execution_count": 17,
   "metadata": {},
   "outputs": [
    {
     "name": "stdout",
     "output_type": "stream",
     "text": [
      "183311 100\n",
      "\n",
      "Found 183311 word vectors.\n",
      "Building embedding matrix...\n",
      "Embedding matrix built.\n",
      "WARNING:tensorflow:From /home/xujitao/.local/lib/python3.6/site-packages/tensorflow/python/util/deprecation.py:497: calling conv1d (from tensorflow.python.ops.nn_ops) with data_format=NHWC is deprecated and will be removed in a future version.\n",
      "Instructions for updating:\n",
      "`NHWC` for data_format is deprecated, use `NWC` instead\n",
      "_________________________________________________________________\n",
      "Layer (type)                 Output Shape              Param #   \n",
      "=================================================================\n",
      "input_2 (InputLayer)         (None, 1024)              0         \n",
      "_________________________________________________________________\n",
      "embedding_1 (Embedding)      (None, 1024, 100)         50480200  \n",
      "_________________________________________________________________\n",
      "dropout_1 (Dropout)          (None, 1024, 100)         0         \n",
      "_________________________________________________________________\n",
      "conv1d_1 (Conv1D)            (None, 1024, 32)          6432      \n",
      "_________________________________________________________________\n",
      "max_pooling1d_1 (MaxPooling1 (None, 512, 32)           0         \n",
      "_________________________________________________________________\n",
      "flatten_1 (Flatten)          (None, 16384)             0         \n",
      "_________________________________________________________________\n",
      "dense_1 (Dense)              (None, 11)                180235    \n",
      "=================================================================\n",
      "Total params: 50,666,867\n",
      "Trainable params: 186,667\n",
      "Non-trainable params: 50,480,200\n",
      "_________________________________________________________________\n",
      "Epoch 1/2\n",
      "102335/102335 [==============================] - 181s 2ms/step - loss: 0.4226 - acc: 0.8741\n",
      "Epoch 2/2\n",
      "102335/102335 [==============================] - 168s 2ms/step - loss: 0.2684 - acc: 0.9212\n",
      "Test Accuracy: 0.9168278529980658\n"
     ]
    }
   ],
   "source": [
    "embedding_index = get_embedding_index(vectors_file_path)\n",
    "embedding_matrix, word_index = get_embedding_matrix(x_train, embedding_index)\n",
    "model = get_model(embedding_matrix, word_index)\n",
    "y_predicted = train_fit_predict(model, x_vec_train, x_vec_test, train_y_cat).argmax(1)\n",
    "print(\"Test Accuracy:\", accuracy_score(y_test, y_predicted))"
   ]
  },
  {
   "cell_type": "code",
   "execution_count": 10,
   "metadata": {},
   "outputs": [
    {
     "name": "stdout",
     "output_type": "stream",
     "text": [
      "WARNING:tensorflow:From /home/xujitao/.local/lib/python3.6/site-packages/tensorflow/python/util/deprecation.py:497: calling conv1d (from tensorflow.python.ops.nn_ops) with data_format=NHWC is deprecated and will be removed in a future version.\n",
      "Instructions for updating:\n",
      "`NHWC` for data_format is deprecated, use `NWC` instead\n",
      "_________________________________________________________________\n",
      "Layer (type)                 Output Shape              Param #   \n",
      "=================================================================\n",
      "input_1 (InputLayer)         (None, 1024)              0         \n",
      "_________________________________________________________________\n",
      "embedding_1 (Embedding)      (None, 1024, 100)         52613700  \n",
      "_________________________________________________________________\n",
      "dropout_1 (Dropout)          (None, 1024, 100)         0         \n",
      "_________________________________________________________________\n",
      "conv1d_1 (Conv1D)            (None, 1024, 32)          6432      \n",
      "_________________________________________________________________\n",
      "max_pooling1d_1 (MaxPooling1 (None, 512, 32)           0         \n",
      "_________________________________________________________________\n",
      "flatten_1 (Flatten)          (None, 16384)             0         \n",
      "_________________________________________________________________\n",
      "dense_1 (Dense)              (None, 11)                180235    \n",
      "=================================================================\n",
      "Total params: 52,800,367\n",
      "Trainable params: 186,667\n",
      "Non-trainable params: 52,613,700\n",
      "_________________________________________________________________\n",
      "Epoch 1/2\n",
      "109989/109989 [==============================] - 192s 2ms/step - loss: 0.3572 - acc: 0.8983\n",
      "Epoch 2/2\n",
      "109989/109989 [==============================] - 193s 2ms/step - loss: 0.2349 - acc: 0.9318\n",
      "Test Accuracy: 0.9291760585862299\n",
      "p r f1 92.9 92.92 92.918\n",
      "             precision    recall  f1-score   support\n",
      "\n",
      "          0       0.93      0.89      0.91     10000\n",
      "          1       0.91      0.90      0.91     10000\n",
      "          2       0.95      0.95      0.95     10000\n",
      "          3       0.94      0.95      0.94     10000\n",
      "          4       0.85      0.95      0.90      3369\n",
      "          5       0.96      0.92      0.94     10000\n",
      "          6       0.91      0.95      0.93     10000\n",
      "          7       0.99      0.99      0.99     10000\n",
      "          8       0.88      0.86      0.87     10000\n",
      "          9       0.97      0.98      0.98     10000\n",
      "         10       0.88      0.88      0.88     10000\n",
      "\n",
      "avg / total       0.93      0.93      0.93    103369\n",
      "\n"
     ]
    }
   ],
   "source": [
    "def main():\n",
    "    # define the NN topology\n",
    "    model = get_model(embedding_matrix)\n",
    "\n",
    "    # Define training procedure\n",
    "    #history = TrainingHistory(x_vec_test, y_test, CLASSES_LIST)\n",
    "\n",
    "    # Train and predict\n",
    "    y_predicted = train_fit_predict(model, x_vec_train, x_vec_test, train_y_cat).argmax(1)\n",
    "\n",
    "\n",
    "    print(\"Test Accuracy:\", accuracy_score(y_test, y_predicted))\n",
    "\n",
    "    p, r, f1, s = precision_recall_fscore_support(y_test, y_predicted, \n",
    "                                                  average='micro',\n",
    "                                                  labels=[x for x in \n",
    "                                                          np.unique(y_train) \n",
    "                                                          if x not in ['CSDECMOTV']])\n",
    "\n",
    "    print('p r f1 %.1f %.2f %.3f' % (np.average(p, weights=s)*100.0, \n",
    "                                     np.average(r, weights=s)*100.0, \n",
    "                                     np.average(f1, weights=s)*100.0))\n",
    "\n",
    "\n",
    "    print(classification_report(y_test, y_predicted, labels=[x for x in \n",
    "                                                           np.unique(y_train) \n",
    "                                                           if x not in ['CSDECMOTV']]))"
   ]
  },
  {
   "cell_type": "markdown",
   "metadata": {},
   "source": [
    "----\n",
    "Nous allons plotter la matrice de confusion, code basé sur [l'exemple de sklearn](http://scikit-learn.org/stable/auto_examples/model_selection/plot_confusion_matrix.html)."
   ]
  },
  {
   "cell_type": "code",
   "execution_count": 1,
   "metadata": {},
   "outputs": [],
   "source": [
    "from sklearn.metrics import confusion_matrix\n",
    "import matplotlib.pyplot as plt\n",
    "from plot_util import plot_confusion_matrix\n",
    "%matplotlib inline"
   ]
  },
  {
   "cell_type": "code",
   "execution_count": 21,
   "metadata": {},
   "outputs": [],
   "source": [
    "np.save('y_predicted', y_predicted)\n",
    "np.save('y_test', y_test)"
   ]
  },
  {
   "cell_type": "code",
   "execution_count": 4,
   "metadata": {},
   "outputs": [],
   "source": [
    "import numpy as np\n",
    "y_predicted = np.load('y_predicted.npy')\n",
    "y_test = np.load('y_test.npy')"
   ]
  },
  {
   "cell_type": "code",
   "execution_count": 6,
   "metadata": {},
   "outputs": [
    {
     "name": "stdout",
     "output_type": "stream",
     "text": [
      "Confusion matrix, without normalization\n",
      "Normalized confusion matrix\n",
      "[ 0  1  2  3  4  5  6  7  8  9 10]\n",
      "\n"
     ]
    },
    {
     "data": {
      "image/png": "[encoded data removed]",
      "text/plain": [
       "<Figure size 720x720 with 2 Axes>"
      ]
     },
     "metadata": {
      "needs_background": "light"
     },
     "output_type": "display_data"
    }
   ],
   "source": [
    "CLASSES_LIST = np.unique(y_test)\n",
    "class_names = np.unique(CLASSES_LIST)\n",
    "conf_mat = confusion_matrix(y_test, y_predicted)\n",
    "plt.figure(figsize=(10,10))\n",
    "plt.subplot(121)\n",
    "plot_confusion_matrix(conf_mat, class_names, title='Confusion matrix, without normalization')\n",
    "plt.subplot(122)\n",
    "plot_confusion_matrix(conf_mat, class_names, normalize=True, title='Normalized confusion matrix')\n",
    "print(class_names)\n",
    "print()"
   ]
  },
  {
   "cell_type": "code",
   "execution_count": null,
   "metadata": {},
   "outputs": [],
   "source": []
  }
 ],
 "metadata": {
  "kernelspec": {
   "display_name": "Python 3",
   "language": "python",
   "name": "python3"
  },
  "language_info": {
   "codemirror_mode": {
    "name": "ipython",
    "version": 3
   },
   "file_extension": ".py",
   "mimetype": "text/x-python",
   "name": "python",
   "nbconvert_exporter": "python",
   "pygments_lexer": "ipython3",
   "version": "3.6.6"
  }
 },
 "nbformat": 4,
 "nbformat_minor": 2
}
