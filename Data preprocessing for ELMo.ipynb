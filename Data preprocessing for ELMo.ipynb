{
 "cells": [
  {
   "cell_type": "code",
   "execution_count": 3,
   "metadata": {},
   "outputs": [],
   "source": [
    "import numpy as np\n",
    "import re\n",
    "#import fasttext\n",
    "import time\n",
    "import multiprocessing\n",
    "from gensim.models import Word2Vec\n",
    "from gensim.models.word2vec import LineSentence\n",
    "import pandas as pd\n",
    "import subprocess\n",
    "from sklearn.metrics import confusion_matrix\n",
    "import itertools\n",
    "import matplotlib.pyplot as plt\n",
    "%matplotlib inline"
   ]
  },
  {
   "cell_type": "code",
   "execution_count": 14,
   "metadata": {},
   "outputs": [
    {
     "name": "stdout",
     "output_type": "stream",
     "text": [
      "['数码 通及 合 和 实业 回购 股份 ', ' 新浪 财经 讯 12 月 01 日 消息 ， 数码 通 ( 00315 - HK ) 申报 回购 33 万股 ， 每股 作价 5.12 元至 5.2 元 ， 涉资 170.41 万元 。 ', ' 合 和 实业 ( 00054 - HK ) 申报 回购 1 , 500 股 ， 每股 作价 24.3 元 ， 涉 3.65 万元 。已有 _ COUNT _ 条 评论 我要 评论']\n"
     ]
    }
   ],
   "source": [
    "f_news = []\n",
    "\n",
    "with open('datasets/news_fasttext_train.txt') as f:\n",
    "    for line in f:\n",
    "        f_news.append(f.readline())\n",
    "\n",
    "print(f_news[-2].split('\\t')[0].replace('\\xa0', '').replace('  ', '').split('\\u3000 \\u3000'))"
   ]
  },
  {
   "cell_type": "code",
   "execution_count": 16,
   "metadata": {},
   "outputs": [],
   "source": [
    "with open('datasets/news_fasttext_train.txt') as origin:\n",
    "    with open('datasets/news_raw_nolabel.txt', 'w') as f:\n",
    "        for line in origin:\n",
    "            temp = line.split('\\t')[0].replace('\\xa0', '').replace('  ', '').split('\\u3000 \\u3000')\n",
    "            for i in range(len(temp)):\n",
    "                f.write(\"{}\\n\".format(temp[i]))"
   ]
  },
  {
   "cell_type": "code",
   "execution_count": 17,
   "metadata": {},
   "outputs": [
    {
     "name": "stdout",
     "output_type": "stream",
     "text": [
      "Total number of tokens : 62014273\n"
     ]
    }
   ],
   "source": [
    "tokens = 0\n",
    "i = 0\n",
    "with open('datasets/news_raw_nolabel.txt', 'r') as f:\n",
    "    for line in f:\n",
    "        tokens += len(line.split())\n",
    "\n",
    "print(\"Total number of tokens : \" + str(tokens))"
   ]
  },
  {
   "cell_type": "code",
   "execution_count": null,
   "metadata": {},
   "outputs": [],
   "source": []
  }
 ],
 "metadata": {
  "kernelspec": {
   "display_name": "Python 3",
   "language": "python",
   "name": "python3"
  },
  "language_info": {
   "codemirror_mode": {
    "name": "ipython",
    "version": 3
   },
   "file_extension": ".py",
   "mimetype": "text/x-python",
   "name": "python",
   "nbconvert_exporter": "python",
   "pygments_lexer": "ipython3",
   "version": "3.6.6"
  }
 },
 "nbformat": 4,
 "nbformat_minor": 2
}
