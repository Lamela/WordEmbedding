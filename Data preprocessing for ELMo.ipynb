{
 "cells": [
  {
   "cell_type": "code",
   "execution_count": 1,
   "metadata": {},
   "outputs": [],
   "source": [
    "import numpy as np\n",
    "import re\n",
    "import fasttext\n",
    "import time\n",
    "import multiprocessing\n",
    "from gensim.models import Word2Vec\n",
    "from gensim.models.word2vec import LineSentence\n",
    "import pandas as pd\n",
    "import subprocess\n",
    "from sklearn.metrics import confusion_matrix\n",
    "import itertools\n",
    "import matplotlib.pyplot as plt\n",
    "%matplotlib inline"
   ]
  },
  {
   "cell_type": "code",
   "execution_count": 2,
   "metadata": {},
   "outputs": [],
   "source": [
    "with open('datasets/news_fasttext_train.txt') as f:\n",
    "    f_news = f.readline()\n",
    "\n",
    "f_news.split('\\t')[0].replace('  ', '').split('\\u3000 \\u3000')"
   ]
  },
  {
   "cell_type": "code",
   "execution_count": 16,
   "metadata": {},
   "outputs": [],
   "source": [
    "with open('datasets/news_fasttext_train.txt') as origin:\n",
    "    with open('datasets/news_raw_nolabel.txt', 'w') as f:\n",
    "        for line in origin:\n",
    "            temp = line.split('\\t')[0].replace('  ', '').split('\\u3000 \\u3000')\n",
    "            for i in range(len(temp)):\n",
    "                f.write(\"{}\\n\".format(temp[i]))"
   ]
  },
  {
   "cell_type": "code",
   "execution_count": 19,
   "metadata": {},
   "outputs": [
    {
     "name": "stdout",
     "output_type": "stream",
     "text": [
      "Total number of tokens : 62086303\n"
     ]
    }
   ],
   "source": [
    "tokens = 0\n",
    "i = 0\n",
    "with open('datasets/news_raw_nolabel.txt', 'r') as f:\n",
    "    for line in f:\n",
    "        tokens += len(line.split())\n",
    "\n",
    "print(\"Total number of tokens : \" + str(tokens))"
   ]
  },
  {
   "cell_type": "code",
   "execution_count": null,
   "metadata": {},
   "outputs": [],
   "source": []
  }
 ],
 "metadata": {
  "kernelspec": {
   "display_name": "Python 3",
   "language": "python",
   "name": "python3"
  },
  "language_info": {
   "codemirror_mode": {
    "name": "ipython",
    "version": 3
   },
   "file_extension": ".py",
   "mimetype": "text/x-python",
   "name": "python",
   "nbconvert_exporter": "python",
   "pygments_lexer": "ipython3",
   "version": "3.6.6"
  }
 },
 "nbformat": 4,
 "nbformat_minor": 2
}
